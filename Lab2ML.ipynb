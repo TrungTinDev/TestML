{
  "nbformat": 4,
  "nbformat_minor": 0,
  "metadata": {
    "colab": {
      "provenance": [],
      "authorship_tag": "ABX9TyMDLYf9FEWxtQ4MB0PRLZJu",
      "include_colab_link": true
    },
    "kernelspec": {
      "name": "python3",
      "display_name": "Python 3"
    },
    "language_info": {
      "name": "python"
    }
  },
  "cells": [
    {
      "cell_type": "markdown",
      "metadata": {
        "id": "view-in-github",
        "colab_type": "text"
      },
      "source": [
        "<a href=\"https://colab.research.google.com/github/TrungTinDev/TestML/blob/main/Lab2ML.ipynb\" target=\"_parent\"><img src=\"https://colab.research.google.com/assets/colab-badge.svg\" alt=\"Open In Colab\"/></a>"
      ]
    },
    {
      "cell_type": "code",
      "source": [],
      "metadata": {
        "id": "HKG1yim-MHlq"
      },
      "execution_count": null,
      "outputs": []
    },
    {
      "cell_type": "markdown",
      "source": [
        "# Lab #2\n",
        "\n",
        "This lab is the first step to get familiar with some common Machine Learning libraries, named Pandas and Matplotlib.\n",
        "\n",
        "*văn bản in nghiêng*\n"
      ],
      "metadata": {
        "id": "Fh242gG5LKcI"
      }
    },
    {
      "cell_type": "markdown",
      "source": [
        "##**0. Mount Drive**\n"
      ],
      "metadata": {
        "id": "g-QVyHkCLwKG"
      }
    },
    {
      "cell_type": "code",
      "execution_count": null,
      "metadata": {
        "id": "OLDNZ4JvLFs6"
      },
      "outputs": [],
      "source": [
        "from google.colab import drive\n",
        "drive.mount('/content/gdrive')\n",
        "%cd '/content/gdrive/MyDrive/MyDrive'"
      ]
    },
    {
      "cell_type": "markdown",
      "source": [
        "Mounted at /content/gdrive\n",
        "/content/gdrive/MyDrive/MyDrive"
      ],
      "metadata": {
        "id": "KTN775HLMKyf"
      }
    },
    {
      "cell_type": "code",
      "source": [],
      "metadata": {
        "id": "rb5vOsSPTZF4"
      },
      "execution_count": null,
      "outputs": []
    }
  ]
}